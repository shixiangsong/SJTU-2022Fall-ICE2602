{
 "cells": [
  {
   "cell_type": "markdown",
   "metadata": {},
   "source": [
    "# The Assignment 9 for SJTU EE208\n",
    "> 521030910013 Shixiang Song"
   ]
  },
  {
   "cell_type": "code",
   "execution_count": null,
   "metadata": {},
   "outputs": [],
   "source": [
    "\n",
    "print(\"Hello Jupyter Notebook :)\")"
   ]
  },
  {
   "cell_type": "code",
   "execution_count": null,
   "metadata": {},
   "outputs": [],
   "source": [
    "import numpy as np\n",
    "import cv2\n",
    "from matplotlib import pyplot as plt\n",
    "\n",
    "\n",
    "\n",
    "# 造一个轮子\n",
    "def make_color_histogram(index):\n",
    "    # 读取图片\n",
    "    img = cv2.imread('images/img{}.jpg'.format(index),cv2.IMREAD_COLOR)\n",
    "    blue, green, red = 0, 0, 0\n",
    "    # 记录RGB数值\n",
    "    for i in range(len(img)):\n",
    "        for j in range(len(img[0])):\n",
    "            blue  += img[i][j][0]\n",
    "            green += img[i][j][1]\n",
    "            red   += img[i][j][2]\n",
    "    # 计算比例并保留两位小数\n",
    "    Sum = sum((blue, green, red))\n",
    "    color_list = [round(blue/ Sum,2), round(green/ Sum,2), round(red/ Sum,2)]\n",
    "    x=['blue', 'green', 'red'] \n",
    "    y = color_list\n",
    "    plt.bar(x,y,color=['blue','green','red'],alpha=0.8) #指定不同颜色并设置透明度\n",
    "    plt.xlabel('color')\n",
    "    plt.ylabel('ratio')\n",
    "    plt.title('img{}\\'s Color Histogram'.format(index))\n",
    "    # 添加标签\n",
    "    for a,b in zip(x, y):\n",
    "        plt.text(a, b+.001, b, ha='center', va='bottom')\n",
    "    plt.savefig(\"color-hist/img{}.jpg\".format(index)) \n",
    "    plt.show()\n",
    "for i in range(1,4):\n",
    "    make_color_histogram(i)"
   ]
  },
  {
   "cell_type": "code",
   "execution_count": null,
   "metadata": {},
   "outputs": [],
   "source": [
    "import numpy as np\n",
    "import cv2\n",
    "from matplotlib import pyplot as plt\n",
    "\n",
    "\n",
    "def make_gray_histogram(index):\n",
    "    img = cv2.imread('images/img{}.jpg'.format(index),cv2.IMREAD_GRAYSCALE) \n",
    "    ravel_img = img.ravel()\n",
    "    #将灰度图转化为一维数组 并获取直方图\n",
    "    plt.hist(ravel_img, 256, density=True)\n",
    "    plt.title('img{}\\'s Gray Histogram'.format(index))\n",
    "    #显示直方图\n",
    "    plt.savefig(\"gray-hist/img{}.jpg\".format(index)) \n",
    "    plt.show()\n",
    "\n",
    "for i in range(1,4):\n",
    "    make_gray_histogram(i)"
   ]
  },
  {
   "cell_type": "markdown",
   "metadata": {},
   "source": [
    "## 方向梯度的计算"
   ]
  },
  {
   "cell_type": "code",
   "execution_count": null,
   "metadata": {},
   "outputs": [],
   "source": [
    "import numpy as np\n",
    "import cv2\n",
    "from matplotlib import pyplot as plt\n",
    "import math\n",
    "\n",
    "def make_gray_gradient(index):\n",
    "    img = cv2.imread('images/img{}.jpg'.format(index),cv2.IMREAD_GRAYSCALE) \n",
    "    img_gradient = np.gradient(img)\n",
    "    img_gra = np.zeros(img.shape)\n",
    "    for i in range(img.shape[0]):\n",
    "        for j in range(img.shape[1]):\n",
    "            img_gra[i][j] = math.sqrt(pow(img_gradient[0][i][j],2) + pow(img_gradient[1][i][j],2))\n",
    "    # for i in range(img.shape[0]):\n",
    "    #     for j in range(img.shape[1]):\n",
    "    #         if (i == 0):\n",
    "    #             Ix = -img[i+1][j]\n",
    "    #         elif (i == img.shape[0] - 1):\n",
    "    #             Ix =  img[i-1][j]\n",
    "    #         else:\n",
    "    #             Ix =  int(img[i-1][j]) - int(img[i+1][j])\n",
    "    #         if (j == 0):\n",
    "    #             Iy = -img[i][j+1]\n",
    "    #         elif (j == img.shape[1] - 1):\n",
    "    #             Iy =  img[i][j-1]\n",
    "    #         else:\n",
    "    #             Iy =  int(img[i][j-1]) - int(img[i][j+1])\n",
    "    #         img_gradient[i][j] = math.sqrt(Ix**2+Iy**2)\n",
    "    plt.hist(img_gradient.ravel(), 360 , density=True)\n",
    "    plt.title('img{}\\'s Gray Gradient Histogram'.format(index))\n",
    "    #显示直方图\n",
    "    plt.savefig(\"gradient/img{}.jpg\".format(index)) \n",
    "    plt.show()\n",
    "\n",
    "for index in range(1,4):\n",
    "    make_gray_gradient(index)"
   ]
  },
  {
   "cell_type": "markdown",
   "metadata": {},
   "source": []
  }
 ],
 "metadata": {
  "kernelspec": {
   "display_name": "Python 3.8.8 ('base')",
   "language": "python",
   "name": "python3"
  },
  "language_info": {
   "codemirror_mode": {
    "name": "ipython",
    "version": 3
   },
   "file_extension": ".py",
   "mimetype": "text/x-python",
   "name": "python",
   "nbconvert_exporter": "python",
   "pygments_lexer": "ipython3",
   "version": "3.8.8"
  },
  "orig_nbformat": 4,
  "vscode": {
   "interpreter": {
    "hash": "06f452608dd9e22dd33317d7d92221e578d821e2839e00944ef61193face4db3"
   }
  }
 },
 "nbformat": 4,
 "nbformat_minor": 2
}
